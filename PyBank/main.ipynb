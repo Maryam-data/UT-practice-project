{
 "cells": [
  {
   "cell_type": "code",
   "execution_count": 36,
   "metadata": {},
   "outputs": [
    {
     "name": "stdout",
     "output_type": "stream",
     "text": [
      "The total net amount of Profit in the dataset:38382578\n",
      "The total number of months included in the dataset:86\n",
      "The average change in Profit/Losses:-2315.1176470588234\n",
      "The greatest increase in profits:Feb-121926159\n",
      "The greatest decrease in profits:Sep-13-2196167\n"
     ]
    }
   ],
   "source": [
    "import csv\n",
    "#open and read file name pybankcsv\n",
    "with open ('budget_data.csv','r') as pybankcsv:\n",
    "    csvreader=csv.reader(pybankcsv,delimiter=\",\")\n",
    "#Count: The total number of months included in the dataset\n",
    "#Total: The total net amount of \"Profit/Losses\" over the entire period\n",
    "#Average: The average change in \"Profit/Losses\" between months over the entire period\n",
    "#greatest_increase: The greatest increase in profits (date and amount) over the entire period\n",
    "#greatest_decrease: The greatest decrease in losses (date and amount) over the entire period\n",
    "#poslist is the list of +numbers\n",
    "#negatie is the list of negative numbers\n",
    "#MaxMonth is value to hold the greatest increase in profits-date\n",
    "#MinMonth is value to hold greatest decrease in losses-date\n",
    "#1 counting number of months and Toatl value:\n",
    "    next(csvreader)\n",
    "    Totallist=[]\n",
    "    Averagelist=[]\n",
    "    valuelist=[]\n",
    "    datelist=[]\n",
    "    minimum=0\n",
    "    maximun= 0\n",
    "    count=0\n",
    "    Total=0\n",
    "    #looping in data\n",
    "    for row in csvreader:\n",
    "        count +=1\n",
    "        Total += int(row[1])\n",
    "        \n",
    "    #make new list from row[1]------------------------------------\n",
    "        valuelist.append(int(row[1]))\n",
    "        datelist.append(row[0])\n",
    "        Totallist=list(zip(valuelist,datelist))\n",
    "        \n",
    "    #making Avarage list -------------------------------\n",
    "    for i in range((len(valuelist)-1)):\n",
    "        diffrenceValue=int((valuelist[i+1]-valuelist[i]))\n",
    "        Averagelist.append(diffrenceValue)\n",
    "    \n",
    "    #zip lists of columns -------------------------------------\n",
    "    for i in range(len(Totallist)-1):\n",
    "        if int(Totallist[i][0])>maximun:\n",
    "            maximun=int(totallist[i][0])\n",
    "            greatest_increase=maximun-int(Totallist[i-1][0])\n",
    "            MaxMonth=Totallist[i][1]\n",
    "        elif int(Totallist[i][0])<minimum:\n",
    "            minimum=int(Totallist[i][0])\n",
    "            greatest_decrease=minimum-int(Totallist[i-1][0])\n",
    "            MinMonth=Totallist[i][1]\n",
    "    \n",
    "\n",
    "  #-----------------------result------------------\n",
    " \n",
    "    print(\"The total net amount of Profit in the dataset\" + \":\" + str(Total))\n",
    "    print(\"The total number of months included in the dataset\"+\":\" + str(count))\n",
    "    print(\"The average change in Profit/Losses\" + \":\"+  str((sum(Averagelist)/len(Averagelist))))\n",
    "    print(\"The greatest increase in profits\" + \":\" + MaxMonth +  str(greatest_increase))\n",
    "    print(\"The greatest decrease in profits\" + \":\" + MinMonth +  str(greatest_decrease))\n",
    "    \n"
   ]
  },
  {
   "cell_type": "code",
   "execution_count": null,
   "metadata": {},
   "outputs": [],
   "source": []
  }
 ],
 "metadata": {
  "kernelspec": {
   "display_name": "Python 3",
   "language": "python",
   "name": "python3"
  },
  "language_info": {
   "codemirror_mode": {
    "name": "ipython",
    "version": 3
   },
   "file_extension": ".py",
   "mimetype": "text/x-python",
   "name": "python",
   "nbconvert_exporter": "python",
   "pygments_lexer": "ipython3",
   "version": "3.6.5"
  }
 },
 "nbformat": 4,
 "nbformat_minor": 2
}
