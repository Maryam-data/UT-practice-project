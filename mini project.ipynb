{
 "cells": [
  {
   "cell_type": "markdown",
   "metadata": {},
   "source": [
    "# pyber\n",
    "####  The ride sharing bonanza continues! Seeing the success of notable players like Uber and Lyft, you've decided to join a fledgling ride sharing company of your own"
   ]
  },
  {
   "cell_type": "markdown",
   "metadata": {},
   "source": [
    "* Project base on two data base: \n",
    "data/city_data.csv\n",
    " & data/ride_data.csv\n"
   ]
  },
  {
   "cell_type": "markdown",
   "metadata": {},
   "source": [
    "## Read the City and Ride Data"
   ]
  },
  {
   "cell_type": "code",
   "execution_count": 2,
   "metadata": {},
   "outputs": [
    {
     "ename": "FileNotFoundError",
     "evalue": "File b'data/city_data.csv' does not exist",
     "output_type": "error",
     "traceback": [
      "\u001b[1;31m---------------------------------------------------------------------------\u001b[0m",
      "\u001b[1;31mFileNotFoundError\u001b[0m                         Traceback (most recent call last)",
      "\u001b[1;32m<ipython-input-2-7ca676565759>\u001b[0m in \u001b[0;36m<module>\u001b[1;34m()\u001b[0m\n\u001b[0;32m      8\u001b[0m \u001b[0mride_data_to_load\u001b[0m \u001b[1;33m=\u001b[0m \u001b[1;34m\"data/ride_data.csv\"\u001b[0m\u001b[1;33m\u001b[0m\u001b[0m\n\u001b[0;32m      9\u001b[0m \u001b[1;33m\u001b[0m\u001b[0m\n\u001b[1;32m---> 10\u001b[1;33m \u001b[0mcity_data_df\u001b[0m\u001b[1;33m=\u001b[0m \u001b[0mpd\u001b[0m\u001b[1;33m.\u001b[0m\u001b[0mread_csv\u001b[0m\u001b[1;33m(\u001b[0m\u001b[0mcity_data_to_load\u001b[0m\u001b[1;33m)\u001b[0m\u001b[1;33m\u001b[0m\u001b[0m\n\u001b[0m\u001b[0;32m     11\u001b[0m \u001b[0mride_data_df\u001b[0m\u001b[1;33m=\u001b[0m \u001b[0mpd\u001b[0m\u001b[1;33m.\u001b[0m\u001b[0mread_csv\u001b[0m\u001b[1;33m(\u001b[0m\u001b[0mride_data_to_load\u001b[0m\u001b[1;33m)\u001b[0m\u001b[1;33m\u001b[0m\u001b[0m\n\u001b[0;32m     12\u001b[0m \u001b[1;33m\u001b[0m\u001b[0m\n",
      "\u001b[1;32m~\\Anaconda3\\lib\\site-packages\\pandas\\io\\parsers.py\u001b[0m in \u001b[0;36mparser_f\u001b[1;34m(filepath_or_buffer, sep, delimiter, header, names, index_col, usecols, squeeze, prefix, mangle_dupe_cols, dtype, engine, converters, true_values, false_values, skipinitialspace, skiprows, nrows, na_values, keep_default_na, na_filter, verbose, skip_blank_lines, parse_dates, infer_datetime_format, keep_date_col, date_parser, dayfirst, iterator, chunksize, compression, thousands, decimal, lineterminator, quotechar, quoting, escapechar, comment, encoding, dialect, tupleize_cols, error_bad_lines, warn_bad_lines, skipfooter, doublequote, delim_whitespace, low_memory, memory_map, float_precision)\u001b[0m\n\u001b[0;32m    676\u001b[0m                     skip_blank_lines=skip_blank_lines)\n\u001b[0;32m    677\u001b[0m \u001b[1;33m\u001b[0m\u001b[0m\n\u001b[1;32m--> 678\u001b[1;33m         \u001b[1;32mreturn\u001b[0m \u001b[0m_read\u001b[0m\u001b[1;33m(\u001b[0m\u001b[0mfilepath_or_buffer\u001b[0m\u001b[1;33m,\u001b[0m \u001b[0mkwds\u001b[0m\u001b[1;33m)\u001b[0m\u001b[1;33m\u001b[0m\u001b[0m\n\u001b[0m\u001b[0;32m    679\u001b[0m \u001b[1;33m\u001b[0m\u001b[0m\n\u001b[0;32m    680\u001b[0m     \u001b[0mparser_f\u001b[0m\u001b[1;33m.\u001b[0m\u001b[0m__name__\u001b[0m \u001b[1;33m=\u001b[0m \u001b[0mname\u001b[0m\u001b[1;33m\u001b[0m\u001b[0m\n",
      "\u001b[1;32m~\\Anaconda3\\lib\\site-packages\\pandas\\io\\parsers.py\u001b[0m in \u001b[0;36m_read\u001b[1;34m(filepath_or_buffer, kwds)\u001b[0m\n\u001b[0;32m    438\u001b[0m \u001b[1;33m\u001b[0m\u001b[0m\n\u001b[0;32m    439\u001b[0m     \u001b[1;31m# Create the parser.\u001b[0m\u001b[1;33m\u001b[0m\u001b[1;33m\u001b[0m\u001b[0m\n\u001b[1;32m--> 440\u001b[1;33m     \u001b[0mparser\u001b[0m \u001b[1;33m=\u001b[0m \u001b[0mTextFileReader\u001b[0m\u001b[1;33m(\u001b[0m\u001b[0mfilepath_or_buffer\u001b[0m\u001b[1;33m,\u001b[0m \u001b[1;33m**\u001b[0m\u001b[0mkwds\u001b[0m\u001b[1;33m)\u001b[0m\u001b[1;33m\u001b[0m\u001b[0m\n\u001b[0m\u001b[0;32m    441\u001b[0m \u001b[1;33m\u001b[0m\u001b[0m\n\u001b[0;32m    442\u001b[0m     \u001b[1;32mif\u001b[0m \u001b[0mchunksize\u001b[0m \u001b[1;32mor\u001b[0m \u001b[0miterator\u001b[0m\u001b[1;33m:\u001b[0m\u001b[1;33m\u001b[0m\u001b[0m\n",
      "\u001b[1;32m~\\Anaconda3\\lib\\site-packages\\pandas\\io\\parsers.py\u001b[0m in \u001b[0;36m__init__\u001b[1;34m(self, f, engine, **kwds)\u001b[0m\n\u001b[0;32m    785\u001b[0m             \u001b[0mself\u001b[0m\u001b[1;33m.\u001b[0m\u001b[0moptions\u001b[0m\u001b[1;33m[\u001b[0m\u001b[1;34m'has_index_names'\u001b[0m\u001b[1;33m]\u001b[0m \u001b[1;33m=\u001b[0m \u001b[0mkwds\u001b[0m\u001b[1;33m[\u001b[0m\u001b[1;34m'has_index_names'\u001b[0m\u001b[1;33m]\u001b[0m\u001b[1;33m\u001b[0m\u001b[0m\n\u001b[0;32m    786\u001b[0m \u001b[1;33m\u001b[0m\u001b[0m\n\u001b[1;32m--> 787\u001b[1;33m         \u001b[0mself\u001b[0m\u001b[1;33m.\u001b[0m\u001b[0m_make_engine\u001b[0m\u001b[1;33m(\u001b[0m\u001b[0mself\u001b[0m\u001b[1;33m.\u001b[0m\u001b[0mengine\u001b[0m\u001b[1;33m)\u001b[0m\u001b[1;33m\u001b[0m\u001b[0m\n\u001b[0m\u001b[0;32m    788\u001b[0m \u001b[1;33m\u001b[0m\u001b[0m\n\u001b[0;32m    789\u001b[0m     \u001b[1;32mdef\u001b[0m \u001b[0mclose\u001b[0m\u001b[1;33m(\u001b[0m\u001b[0mself\u001b[0m\u001b[1;33m)\u001b[0m\u001b[1;33m:\u001b[0m\u001b[1;33m\u001b[0m\u001b[0m\n",
      "\u001b[1;32m~\\Anaconda3\\lib\\site-packages\\pandas\\io\\parsers.py\u001b[0m in \u001b[0;36m_make_engine\u001b[1;34m(self, engine)\u001b[0m\n\u001b[0;32m   1012\u001b[0m     \u001b[1;32mdef\u001b[0m \u001b[0m_make_engine\u001b[0m\u001b[1;33m(\u001b[0m\u001b[0mself\u001b[0m\u001b[1;33m,\u001b[0m \u001b[0mengine\u001b[0m\u001b[1;33m=\u001b[0m\u001b[1;34m'c'\u001b[0m\u001b[1;33m)\u001b[0m\u001b[1;33m:\u001b[0m\u001b[1;33m\u001b[0m\u001b[0m\n\u001b[0;32m   1013\u001b[0m         \u001b[1;32mif\u001b[0m \u001b[0mengine\u001b[0m \u001b[1;33m==\u001b[0m \u001b[1;34m'c'\u001b[0m\u001b[1;33m:\u001b[0m\u001b[1;33m\u001b[0m\u001b[0m\n\u001b[1;32m-> 1014\u001b[1;33m             \u001b[0mself\u001b[0m\u001b[1;33m.\u001b[0m\u001b[0m_engine\u001b[0m \u001b[1;33m=\u001b[0m \u001b[0mCParserWrapper\u001b[0m\u001b[1;33m(\u001b[0m\u001b[0mself\u001b[0m\u001b[1;33m.\u001b[0m\u001b[0mf\u001b[0m\u001b[1;33m,\u001b[0m \u001b[1;33m**\u001b[0m\u001b[0mself\u001b[0m\u001b[1;33m.\u001b[0m\u001b[0moptions\u001b[0m\u001b[1;33m)\u001b[0m\u001b[1;33m\u001b[0m\u001b[0m\n\u001b[0m\u001b[0;32m   1015\u001b[0m         \u001b[1;32melse\u001b[0m\u001b[1;33m:\u001b[0m\u001b[1;33m\u001b[0m\u001b[0m\n\u001b[0;32m   1016\u001b[0m             \u001b[1;32mif\u001b[0m \u001b[0mengine\u001b[0m \u001b[1;33m==\u001b[0m \u001b[1;34m'python'\u001b[0m\u001b[1;33m:\u001b[0m\u001b[1;33m\u001b[0m\u001b[0m\n",
      "\u001b[1;32m~\\Anaconda3\\lib\\site-packages\\pandas\\io\\parsers.py\u001b[0m in \u001b[0;36m__init__\u001b[1;34m(self, src, **kwds)\u001b[0m\n\u001b[0;32m   1706\u001b[0m         \u001b[0mkwds\u001b[0m\u001b[1;33m[\u001b[0m\u001b[1;34m'usecols'\u001b[0m\u001b[1;33m]\u001b[0m \u001b[1;33m=\u001b[0m \u001b[0mself\u001b[0m\u001b[1;33m.\u001b[0m\u001b[0musecols\u001b[0m\u001b[1;33m\u001b[0m\u001b[0m\n\u001b[0;32m   1707\u001b[0m \u001b[1;33m\u001b[0m\u001b[0m\n\u001b[1;32m-> 1708\u001b[1;33m         \u001b[0mself\u001b[0m\u001b[1;33m.\u001b[0m\u001b[0m_reader\u001b[0m \u001b[1;33m=\u001b[0m \u001b[0mparsers\u001b[0m\u001b[1;33m.\u001b[0m\u001b[0mTextReader\u001b[0m\u001b[1;33m(\u001b[0m\u001b[0msrc\u001b[0m\u001b[1;33m,\u001b[0m \u001b[1;33m**\u001b[0m\u001b[0mkwds\u001b[0m\u001b[1;33m)\u001b[0m\u001b[1;33m\u001b[0m\u001b[0m\n\u001b[0m\u001b[0;32m   1709\u001b[0m \u001b[1;33m\u001b[0m\u001b[0m\n\u001b[0;32m   1710\u001b[0m         \u001b[0mpassed_names\u001b[0m \u001b[1;33m=\u001b[0m \u001b[0mself\u001b[0m\u001b[1;33m.\u001b[0m\u001b[0mnames\u001b[0m \u001b[1;32mis\u001b[0m \u001b[1;32mNone\u001b[0m\u001b[1;33m\u001b[0m\u001b[0m\n",
      "\u001b[1;32mpandas\\_libs\\parsers.pyx\u001b[0m in \u001b[0;36mpandas._libs.parsers.TextReader.__cinit__\u001b[1;34m()\u001b[0m\n",
      "\u001b[1;32mpandas\\_libs\\parsers.pyx\u001b[0m in \u001b[0;36mpandas._libs.parsers.TextReader._setup_parser_source\u001b[1;34m()\u001b[0m\n",
      "\u001b[1;31mFileNotFoundError\u001b[0m: File b'data/city_data.csv' does not exist"
     ]
    }
   ],
   "source": [
    "import pandas as pd\n",
    "import matplotlib.pyplot as plt\n",
    "import pandas as pd\n",
    "import numpy as np\n",
    "\n",
    "#name the data base As : city_data_df & ride_data_df\n",
    "city_data_to_load = \"data/city_data.csv\"\n",
    "ride_data_to_load = \"data/ride_data.csv\"\n",
    "\n",
    "city_data_df= pd.read_csv(city_data_to_load)\n",
    "ride_data_df= pd.read_csv(ride_data_to_load)\n",
    "\n",
    "#print (city_data_df.shape + ride_data_df.shape )"
   ]
  },
  {
   "cell_type": "markdown",
   "metadata": {},
   "source": [
    "This is a really large dataset, it has 5656458 rows and 6 columns!"
   ]
  },
  {
   "cell_type": "code",
   "execution_count": 169,
   "metadata": {},
   "outputs": [
    {
     "data": {
      "text/html": [
       "<div>\n",
       "<style scoped>\n",
       "    .dataframe tbody tr th:only-of-type {\n",
       "        vertical-align: middle;\n",
       "    }\n",
       "\n",
       "    .dataframe tbody tr th {\n",
       "        vertical-align: top;\n",
       "    }\n",
       "\n",
       "    .dataframe thead th {\n",
       "        text-align: right;\n",
       "    }\n",
       "</style>\n",
       "<table border=\"1\" class=\"dataframe\">\n",
       "  <thead>\n",
       "    <tr style=\"text-align: right;\">\n",
       "      <th></th>\n",
       "      <th>CountryName</th>\n",
       "      <th>CountryCode</th>\n",
       "      <th>IndicatorName</th>\n",
       "      <th>IndicatorCode</th>\n",
       "      <th>Year</th>\n",
       "      <th>Value</th>\n",
       "    </tr>\n",
       "  </thead>\n",
       "  <tbody>\n",
       "    <tr>\n",
       "      <th>0</th>\n",
       "      <td>Arab World</td>\n",
       "      <td>ARB</td>\n",
       "      <td>Adolescent fertility rate (births per 1,000 wo...</td>\n",
       "      <td>SP.ADO.TFRT</td>\n",
       "      <td>1960</td>\n",
       "      <td>1.335609e+02</td>\n",
       "    </tr>\n",
       "    <tr>\n",
       "      <th>1</th>\n",
       "      <td>Arab World</td>\n",
       "      <td>ARB</td>\n",
       "      <td>Age dependency ratio (% of working-age populat...</td>\n",
       "      <td>SP.POP.DPND</td>\n",
       "      <td>1960</td>\n",
       "      <td>8.779760e+01</td>\n",
       "    </tr>\n",
       "    <tr>\n",
       "      <th>2</th>\n",
       "      <td>Arab World</td>\n",
       "      <td>ARB</td>\n",
       "      <td>Age dependency ratio, old (% of working-age po...</td>\n",
       "      <td>SP.POP.DPND.OL</td>\n",
       "      <td>1960</td>\n",
       "      <td>6.634579e+00</td>\n",
       "    </tr>\n",
       "    <tr>\n",
       "      <th>3</th>\n",
       "      <td>Arab World</td>\n",
       "      <td>ARB</td>\n",
       "      <td>Age dependency ratio, young (% of working-age ...</td>\n",
       "      <td>SP.POP.DPND.YG</td>\n",
       "      <td>1960</td>\n",
       "      <td>8.102333e+01</td>\n",
       "    </tr>\n",
       "    <tr>\n",
       "      <th>4</th>\n",
       "      <td>Arab World</td>\n",
       "      <td>ARB</td>\n",
       "      <td>Arms exports (SIPRI trend indicator values)</td>\n",
       "      <td>MS.MIL.XPRT.KD</td>\n",
       "      <td>1960</td>\n",
       "      <td>3.000000e+06</td>\n",
       "    </tr>\n",
       "  </tbody>\n",
       "</table>\n",
       "</div>"
      ],
      "text/plain": [
       "  CountryName CountryCode                                      IndicatorName  \\\n",
       "0  Arab World         ARB  Adolescent fertility rate (births per 1,000 wo...   \n",
       "1  Arab World         ARB  Age dependency ratio (% of working-age populat...   \n",
       "2  Arab World         ARB  Age dependency ratio, old (% of working-age po...   \n",
       "3  Arab World         ARB  Age dependency ratio, young (% of working-age ...   \n",
       "4  Arab World         ARB        Arms exports (SIPRI trend indicator values)   \n",
       "\n",
       "    IndicatorCode  Year         Value  \n",
       "0     SP.ADO.TFRT  1960  1.335609e+02  \n",
       "1     SP.POP.DPND  1960  8.779760e+01  \n",
       "2  SP.POP.DPND.OL  1960  6.634579e+00  \n",
       "3  SP.POP.DPND.YG  1960  8.102333e+01  \n",
       "4  MS.MIL.XPRT.KD  1960  3.000000e+06  "
      ]
     },
     "execution_count": 169,
     "metadata": {},
     "output_type": "execute_result"
    }
   ],
   "source": [
    "data.head()"
   ]
  },
  {
   "cell_type": "markdown",
   "metadata": {},
   "source": [
    "As you see at the top of table, there are 10 first rows of database. The result shows different indicators for different countries with value and year. "
   ]
  },
  {
   "cell_type": "markdown",
   "metadata": {},
   "source": [
    "# lets go "
   ]
  },
  {
   "cell_type": "code",
   "execution_count": 172,
   "metadata": {},
   "outputs": [
    {
     "name": "stdout",
     "output_type": "stream",
     "text": [
      "CountryName                                             Arab World\n",
      "CountryCode                                                    ARB\n",
      "IndicatorName    Adolescent fertility rate (births per 1,000 wo...\n",
      "IndicatorCode                                          SP.ADO.TFRT\n",
      "Year                                                          1960\n",
      "Value                                                      133.561\n",
      "Name: 0, dtype: object\n"
     ]
    }
   ],
   "source": [
    "row_1=data.iloc[0]\n",
    "print(row_1)"
   ]
  },
  {
   "cell_type": "code",
   "execution_count": 173,
   "metadata": {},
   "outputs": [
    {
     "data": {
      "text/plain": [
       "RangeIndex(start=0, stop=5656458, step=1)"
      ]
     },
     "execution_count": 173,
     "metadata": {},
     "output_type": "execute_result"
    }
   ],
   "source": [
    "data.index"
   ]
  },
  {
   "cell_type": "code",
   "execution_count": 174,
   "metadata": {},
   "outputs": [
    {
     "data": {
      "text/plain": [
       "Index(['CountryName', 'CountryCode', 'IndicatorName', 'IndicatorCode', 'Year',\n",
       "       'Value'],\n",
       "      dtype='object')"
      ]
     },
     "execution_count": 174,
     "metadata": {},
     "output_type": "execute_result"
    }
   ],
   "source": [
    "data.columns"
   ]
  },
  {
   "cell_type": "markdown",
   "metadata": {},
   "source": [
    "## Is Null value in data?"
   ]
  },
  {
   "cell_type": "code",
   "execution_count": 175,
   "metadata": {},
   "outputs": [
    {
     "data": {
      "text/plain": [
       "CountryName      False\n",
       "CountryCode      False\n",
       "IndicatorName    False\n",
       "IndicatorCode    False\n",
       "Year             False\n",
       "Value            False\n",
       "dtype: bool"
      ]
     },
     "execution_count": 175,
     "metadata": {},
     "output_type": "execute_result"
    }
   ],
   "source": [
    "data.isnull().any()"
   ]
  },
  {
   "cell_type": "markdown",
   "metadata": {},
   "source": [
    "* We are ready to go there is no null value."
   ]
  },
  {
   "cell_type": "markdown",
   "metadata": {},
   "source": [
    "### How many UNIQUE country names are there ?"
   ]
  },
  {
   "cell_type": "code",
   "execution_count": 176,
   "metadata": {},
   "outputs": [
    {
     "data": {
      "text/plain": [
       "247"
      ]
     },
     "execution_count": 176,
     "metadata": {},
     "output_type": "execute_result"
    }
   ],
   "source": [
    "#countries= data['countryname'].unique().tolist()\n",
    "countries = data['CountryName'].unique().tolist()\n",
    "len(countries)"
   ]
  },
  {
   "cell_type": "markdown",
   "metadata": {},
   "source": [
    "### Are there same number of country codes ?"
   ]
  },
  {
   "cell_type": "code",
   "execution_count": 177,
   "metadata": {},
   "outputs": [
    {
     "data": {
      "text/plain": [
       "247"
      ]
     },
     "execution_count": 177,
     "metadata": {},
     "output_type": "execute_result"
    }
   ],
   "source": [
    "# How many unique country codes are there ? (should be the same #)\n",
    "countryCodes = data['CountryCode'].unique().tolist()\n",
    "len(countryCodes)"
   ]
  },
  {
   "cell_type": "markdown",
   "metadata": {},
   "source": [
    "### Are there many indicators or few ?"
   ]
  },
  {
   "cell_type": "code",
   "execution_count": 178,
   "metadata": {},
   "outputs": [
    {
     "data": {
      "text/plain": [
       "1344"
      ]
     },
     "execution_count": 178,
     "metadata": {},
     "output_type": "execute_result"
    }
   ],
   "source": [
    "# How many unique indicators are there ? (should be the same #)\n",
    "indicators = data['IndicatorName'].unique().tolist()\n",
    "len(indicators)"
   ]
  },
  {
   "cell_type": "markdown",
   "metadata": {},
   "source": [
    "### How many years of data do we have ?"
   ]
  },
  {
   "cell_type": "code",
   "execution_count": 179,
   "metadata": {},
   "outputs": [
    {
     "data": {
      "text/plain": [
       "56"
      ]
     },
     "execution_count": 179,
     "metadata": {},
     "output_type": "execute_result"
    }
   ],
   "source": [
    "# How many years of data do we have ?\n",
    "years = data['Year'].unique().tolist()\n",
    "len(years)"
   ]
  },
  {
   "cell_type": "markdown",
   "metadata": {},
   "source": [
    "### What's the range of years?"
   ]
  },
  {
   "cell_type": "code",
   "execution_count": 180,
   "metadata": {},
   "outputs": [
    {
     "name": "stdout",
     "output_type": "stream",
     "text": [
      "1960  to  2015\n"
     ]
    }
   ],
   "source": [
    "print(min(years),\" to \",max(years))"
   ]
  },
  {
   "cell_type": "markdown",
   "metadata": {},
   "source": [
    "* I am going to choose USA as sample of development country and Middel Esat & North Africa to analysis the life expectany betweem women and men. \n"
   ]
  },
  {
   "cell_type": "markdown",
   "metadata": {},
   "source": [
    "## First: Explore the life expenctancy at birth for female and male in USA "
   ]
  },
  {
   "cell_type": "markdown",
   "metadata": {},
   "source": [
    "* Lets pick a countrycode and an indicator to explore: Life expectancy at birth, female and the USA"
   ]
  },
  {
   "cell_type": "code",
   "execution_count": 181,
   "metadata": {},
   "outputs": [],
   "source": [
    "# select Life expectancy at birth, female (years) for the United States\n",
    "life_findicator = 'Life expectancy at birth, female'\n",
    "#life_mindicator='Life expectancy at birth, male'\n",
    "life_country = 'USA'\n",
    "\n",
    "mask1 = data['IndicatorName'].str.contains(life_findicator) \n",
    "mask2 = data['CountryCode'].str.contains(life_country)\n",
    "#mask3 = data['IndicatorName'].str.contains(life_mindicator)\n",
    "\n",
    "# stage is just those indicators matching the USA for country code and life expectancy at birth for female over years.\n",
    "stage = data[mask1 & mask2]\n",
    "    "
   ]
  },
  {
   "cell_type": "code",
   "execution_count": 182,
   "metadata": {},
   "outputs": [
    {
     "data": {
      "text/html": [
       "<div>\n",
       "<style scoped>\n",
       "    .dataframe tbody tr th:only-of-type {\n",
       "        vertical-align: middle;\n",
       "    }\n",
       "\n",
       "    .dataframe tbody tr th {\n",
       "        vertical-align: top;\n",
       "    }\n",
       "\n",
       "    .dataframe thead th {\n",
       "        text-align: right;\n",
       "    }\n",
       "</style>\n",
       "<table border=\"1\" class=\"dataframe\">\n",
       "  <thead>\n",
       "    <tr style=\"text-align: right;\">\n",
       "      <th></th>\n",
       "      <th>CountryName</th>\n",
       "      <th>CountryCode</th>\n",
       "      <th>IndicatorName</th>\n",
       "      <th>IndicatorCode</th>\n",
       "      <th>Year</th>\n",
       "      <th>Value</th>\n",
       "    </tr>\n",
       "  </thead>\n",
       "  <tbody>\n",
       "    <tr>\n",
       "      <th>22321</th>\n",
       "      <td>United States</td>\n",
       "      <td>USA</td>\n",
       "      <td>Life expectancy at birth, female (years)</td>\n",
       "      <td>SP.DYN.LE00.FE.IN</td>\n",
       "      <td>1960</td>\n",
       "      <td>73.1</td>\n",
       "    </tr>\n",
       "    <tr>\n",
       "      <th>48801</th>\n",
       "      <td>United States</td>\n",
       "      <td>USA</td>\n",
       "      <td>Life expectancy at birth, female (years)</td>\n",
       "      <td>SP.DYN.LE00.FE.IN</td>\n",
       "      <td>1961</td>\n",
       "      <td>73.6</td>\n",
       "    </tr>\n",
       "    <tr>\n",
       "      <th>77186</th>\n",
       "      <td>United States</td>\n",
       "      <td>USA</td>\n",
       "      <td>Life expectancy at birth, female (years)</td>\n",
       "      <td>SP.DYN.LE00.FE.IN</td>\n",
       "      <td>1962</td>\n",
       "      <td>73.5</td>\n",
       "    </tr>\n",
       "    <tr>\n",
       "      <th>105804</th>\n",
       "      <td>United States</td>\n",
       "      <td>USA</td>\n",
       "      <td>Life expectancy at birth, female (years)</td>\n",
       "      <td>SP.DYN.LE00.FE.IN</td>\n",
       "      <td>1963</td>\n",
       "      <td>73.4</td>\n",
       "    </tr>\n",
       "    <tr>\n",
       "      <th>134842</th>\n",
       "      <td>United States</td>\n",
       "      <td>USA</td>\n",
       "      <td>Life expectancy at birth, female (years)</td>\n",
       "      <td>SP.DYN.LE00.FE.IN</td>\n",
       "      <td>1964</td>\n",
       "      <td>73.7</td>\n",
       "    </tr>\n",
       "  </tbody>\n",
       "</table>\n",
       "</div>"
      ],
      "text/plain": [
       "          CountryName CountryCode                             IndicatorName  \\\n",
       "22321   United States         USA  Life expectancy at birth, female (years)   \n",
       "48801   United States         USA  Life expectancy at birth, female (years)   \n",
       "77186   United States         USA  Life expectancy at birth, female (years)   \n",
       "105804  United States         USA  Life expectancy at birth, female (years)   \n",
       "134842  United States         USA  Life expectancy at birth, female (years)   \n",
       "\n",
       "            IndicatorCode  Year  Value  \n",
       "22321   SP.DYN.LE00.FE.IN  1960   73.1  \n",
       "48801   SP.DYN.LE00.FE.IN  1961   73.6  \n",
       "77186   SP.DYN.LE00.FE.IN  1962   73.5  \n",
       "105804  SP.DYN.LE00.FE.IN  1963   73.4  \n",
       "134842  SP.DYN.LE00.FE.IN  1964   73.7  "
      ]
     },
     "execution_count": 182,
     "metadata": {},
     "output_type": "execute_result"
    }
   ],
   "source": [
    "stage.head()\n"
   ]
  },
  {
   "cell_type": "code",
   "execution_count": 183,
   "metadata": {},
   "outputs": [
    {
     "data": {
      "text/plain": [
       "(54, 6)"
      ]
     },
     "execution_count": 183,
     "metadata": {},
     "output_type": "execute_result"
    }
   ],
   "source": [
    "#size of stage\n",
    "stage.shape"
   ]
  },
  {
   "cell_type": "code",
   "execution_count": 184,
   "metadata": {},
   "outputs": [
    {
     "name": "stdout",
     "output_type": "stream",
     "text": [
      "1960 to 2013\n"
     ]
    }
   ],
   "source": [
    "#range of years in stage data set \n",
    "stageyear=stage['Year'].unique().tolist()\n",
    "print(min(stageyear),'to',max(stageyear))"
   ]
  },
  {
   "cell_type": "code",
   "execution_count": 185,
   "metadata": {},
   "outputs": [
    {
     "data": {
      "text/html": [
       "<div>\n",
       "<style scoped>\n",
       "    .dataframe tbody tr th:only-of-type {\n",
       "        vertical-align: middle;\n",
       "    }\n",
       "\n",
       "    .dataframe tbody tr th {\n",
       "        vertical-align: top;\n",
       "    }\n",
       "\n",
       "    .dataframe thead th {\n",
       "        text-align: right;\n",
       "    }\n",
       "</style>\n",
       "<table border=\"1\" class=\"dataframe\">\n",
       "  <thead>\n",
       "    <tr style=\"text-align: right;\">\n",
       "      <th></th>\n",
       "      <th>Year</th>\n",
       "      <th>Value</th>\n",
       "    </tr>\n",
       "  </thead>\n",
       "  <tbody>\n",
       "    <tr>\n",
       "      <th>count</th>\n",
       "      <td>54.000000</td>\n",
       "      <td>54.000000</td>\n",
       "    </tr>\n",
       "    <tr>\n",
       "      <th>mean</th>\n",
       "      <td>1986.500000</td>\n",
       "      <td>77.695556</td>\n",
       "    </tr>\n",
       "    <tr>\n",
       "      <th>std</th>\n",
       "      <td>15.732133</td>\n",
       "      <td>2.424005</td>\n",
       "    </tr>\n",
       "    <tr>\n",
       "      <th>min</th>\n",
       "      <td>1960.000000</td>\n",
       "      <td>73.100000</td>\n",
       "    </tr>\n",
       "    <tr>\n",
       "      <th>25%</th>\n",
       "      <td>1973.250000</td>\n",
       "      <td>75.450000</td>\n",
       "    </tr>\n",
       "    <tr>\n",
       "      <th>50%</th>\n",
       "      <td>1986.500000</td>\n",
       "      <td>78.250000</td>\n",
       "    </tr>\n",
       "    <tr>\n",
       "      <th>75%</th>\n",
       "      <td>1999.750000</td>\n",
       "      <td>79.400000</td>\n",
       "    </tr>\n",
       "    <tr>\n",
       "      <th>max</th>\n",
       "      <td>2013.000000</td>\n",
       "      <td>81.300000</td>\n",
       "    </tr>\n",
       "  </tbody>\n",
       "</table>\n",
       "</div>"
      ],
      "text/plain": [
       "              Year      Value\n",
       "count    54.000000  54.000000\n",
       "mean   1986.500000  77.695556\n",
       "std      15.732133   2.424005\n",
       "min    1960.000000  73.100000\n",
       "25%    1973.250000  75.450000\n",
       "50%    1986.500000  78.250000\n",
       "75%    1999.750000  79.400000\n",
       "max    2013.000000  81.300000"
      ]
     },
     "execution_count": 185,
     "metadata": {},
     "output_type": "execute_result"
    }
   ],
   "source": [
    "stage.describe()"
   ]
  },
  {
   "cell_type": "markdown",
   "metadata": {},
   "source": [
    "####  Female in USA:  Minmum age= 73,  Maximum= 81,  Mean= 77 and the range of year is: 1960 to 2013"
   ]
  },
  {
   "cell_type": "markdown",
   "metadata": {},
   "source": [
    "## second: Explor the life expectancy at birth for male in USA."
   ]
  },
  {
   "cell_type": "code",
   "execution_count": 186,
   "metadata": {},
   "outputs": [],
   "source": [
    "# select Life expectancy at birth, female (years) for the United States\n",
    "#life_findicator = 'Life expectancy at birth, female'\n",
    "life_mindicator='Life expectancy at birth, male'\n",
    "life_country = 'USA'\n",
    "\n",
    "#mask1 = data['IndicatorName'].str.contains(life_findicator) \n",
    "mask2 = data['CountryCode'].str.contains(life_country)\n",
    "mask3 = data['IndicatorName'].str.contains(life_mindicator)\n",
    "\n",
    "# stage is just those indicators matching the USA for country code and life expectancy at birth for female over years.\n",
    "male_stage = data[mask2 & mask3]\n",
    "    "
   ]
  },
  {
   "cell_type": "code",
   "execution_count": 187,
   "metadata": {},
   "outputs": [
    {
     "data": {
      "text/html": [
       "<div>\n",
       "<style scoped>\n",
       "    .dataframe tbody tr th:only-of-type {\n",
       "        vertical-align: middle;\n",
       "    }\n",
       "\n",
       "    .dataframe tbody tr th {\n",
       "        vertical-align: top;\n",
       "    }\n",
       "\n",
       "    .dataframe thead th {\n",
       "        text-align: right;\n",
       "    }\n",
       "</style>\n",
       "<table border=\"1\" class=\"dataframe\">\n",
       "  <thead>\n",
       "    <tr style=\"text-align: right;\">\n",
       "      <th></th>\n",
       "      <th>CountryName</th>\n",
       "      <th>CountryCode</th>\n",
       "      <th>IndicatorName</th>\n",
       "      <th>IndicatorCode</th>\n",
       "      <th>Year</th>\n",
       "      <th>Value</th>\n",
       "    </tr>\n",
       "  </thead>\n",
       "  <tbody>\n",
       "    <tr>\n",
       "      <th>22322</th>\n",
       "      <td>United States</td>\n",
       "      <td>USA</td>\n",
       "      <td>Life expectancy at birth, male (years)</td>\n",
       "      <td>SP.DYN.LE00.MA.IN</td>\n",
       "      <td>1960</td>\n",
       "      <td>66.6</td>\n",
       "    </tr>\n",
       "    <tr>\n",
       "      <th>48802</th>\n",
       "      <td>United States</td>\n",
       "      <td>USA</td>\n",
       "      <td>Life expectancy at birth, male (years)</td>\n",
       "      <td>SP.DYN.LE00.MA.IN</td>\n",
       "      <td>1961</td>\n",
       "      <td>67.1</td>\n",
       "    </tr>\n",
       "    <tr>\n",
       "      <th>77187</th>\n",
       "      <td>United States</td>\n",
       "      <td>USA</td>\n",
       "      <td>Life expectancy at birth, male (years)</td>\n",
       "      <td>SP.DYN.LE00.MA.IN</td>\n",
       "      <td>1962</td>\n",
       "      <td>66.9</td>\n",
       "    </tr>\n",
       "    <tr>\n",
       "      <th>105805</th>\n",
       "      <td>United States</td>\n",
       "      <td>USA</td>\n",
       "      <td>Life expectancy at birth, male (years)</td>\n",
       "      <td>SP.DYN.LE00.MA.IN</td>\n",
       "      <td>1963</td>\n",
       "      <td>66.6</td>\n",
       "    </tr>\n",
       "    <tr>\n",
       "      <th>134843</th>\n",
       "      <td>United States</td>\n",
       "      <td>USA</td>\n",
       "      <td>Life expectancy at birth, male (years)</td>\n",
       "      <td>SP.DYN.LE00.MA.IN</td>\n",
       "      <td>1964</td>\n",
       "      <td>66.8</td>\n",
       "    </tr>\n",
       "  </tbody>\n",
       "</table>\n",
       "</div>"
      ],
      "text/plain": [
       "          CountryName CountryCode                           IndicatorName  \\\n",
       "22322   United States         USA  Life expectancy at birth, male (years)   \n",
       "48802   United States         USA  Life expectancy at birth, male (years)   \n",
       "77187   United States         USA  Life expectancy at birth, male (years)   \n",
       "105805  United States         USA  Life expectancy at birth, male (years)   \n",
       "134843  United States         USA  Life expectancy at birth, male (years)   \n",
       "\n",
       "            IndicatorCode  Year  Value  \n",
       "22322   SP.DYN.LE00.MA.IN  1960   66.6  \n",
       "48802   SP.DYN.LE00.MA.IN  1961   67.1  \n",
       "77187   SP.DYN.LE00.MA.IN  1962   66.9  \n",
       "105805  SP.DYN.LE00.MA.IN  1963   66.6  \n",
       "134843  SP.DYN.LE00.MA.IN  1964   66.8  "
      ]
     },
     "execution_count": 187,
     "metadata": {},
     "output_type": "execute_result"
    }
   ],
   "source": [
    "male_stage.head()"
   ]
  },
  {
   "cell_type": "code",
   "execution_count": 188,
   "metadata": {},
   "outputs": [
    {
     "data": {
      "text/plain": [
       "(54, 6)"
      ]
     },
     "execution_count": 188,
     "metadata": {},
     "output_type": "execute_result"
    }
   ],
   "source": [
    "male_stage.shape"
   ]
  },
  {
   "cell_type": "code",
   "execution_count": 189,
   "metadata": {},
   "outputs": [
    {
     "name": "stdout",
     "output_type": "stream",
     "text": [
      "1960 to 2013\n"
     ]
    }
   ],
   "source": [
    "male_stageyear=male_stage['Year'].unique().tolist()\n",
    "print(min(male_stageyear),'to', max(male_stageyear))"
   ]
  },
  {
   "cell_type": "code",
   "execution_count": 194,
   "metadata": {},
   "outputs": [
    {
     "data": {
      "text/html": [
       "<div>\n",
       "<style scoped>\n",
       "    .dataframe tbody tr th:only-of-type {\n",
       "        vertical-align: middle;\n",
       "    }\n",
       "\n",
       "    .dataframe tbody tr th {\n",
       "        vertical-align: top;\n",
       "    }\n",
       "\n",
       "    .dataframe thead th {\n",
       "        text-align: right;\n",
       "    }\n",
       "</style>\n",
       "<table border=\"1\" class=\"dataframe\">\n",
       "  <thead>\n",
       "    <tr style=\"text-align: right;\">\n",
       "      <th></th>\n",
       "      <th>Year</th>\n",
       "      <th>Value</th>\n",
       "    </tr>\n",
       "  </thead>\n",
       "  <tbody>\n",
       "    <tr>\n",
       "      <th>count</th>\n",
       "      <td>54.000000</td>\n",
       "      <td>54.000000</td>\n",
       "    </tr>\n",
       "    <tr>\n",
       "      <th>mean</th>\n",
       "      <td>1986.500000</td>\n",
       "      <td>71.176667</td>\n",
       "    </tr>\n",
       "    <tr>\n",
       "      <th>std</th>\n",
       "      <td>15.732133</td>\n",
       "      <td>3.252545</td>\n",
       "    </tr>\n",
       "    <tr>\n",
       "      <th>min</th>\n",
       "      <td>1960.000000</td>\n",
       "      <td>66.000000</td>\n",
       "    </tr>\n",
       "    <tr>\n",
       "      <th>25%</th>\n",
       "      <td>1973.250000</td>\n",
       "      <td>67.750000</td>\n",
       "    </tr>\n",
       "    <tr>\n",
       "      <th>50%</th>\n",
       "      <td>1986.500000</td>\n",
       "      <td>71.300000</td>\n",
       "    </tr>\n",
       "    <tr>\n",
       "      <th>75%</th>\n",
       "      <td>1999.750000</td>\n",
       "      <td>74.050000</td>\n",
       "    </tr>\n",
       "    <tr>\n",
       "      <th>max</th>\n",
       "      <td>2013.000000</td>\n",
       "      <td>76.500000</td>\n",
       "    </tr>\n",
       "  </tbody>\n",
       "</table>\n",
       "</div>"
      ],
      "text/plain": [
       "              Year      Value\n",
       "count    54.000000  54.000000\n",
       "mean   1986.500000  71.176667\n",
       "std      15.732133   3.252545\n",
       "min    1960.000000  66.000000\n",
       "25%    1973.250000  67.750000\n",
       "50%    1986.500000  71.300000\n",
       "75%    1999.750000  74.050000\n",
       "max    2013.000000  76.500000"
      ]
     },
     "execution_count": 194,
     "metadata": {},
     "output_type": "execute_result"
    }
   ],
   "source": [
    "male_stage.describe()"
   ]
  },
  {
   "cell_type": "markdown",
   "metadata": {},
   "source": [
    "####  Male in USA:  Minmum age = 66, Maximum age= 76, Mean= 71 and the range of year is: 1960 to 2013"
   ]
  },
  {
   "cell_type": "markdown",
   "metadata": {},
   "source": [
    "According to the above, stage and male_stage have same dimonsions, and same column in Year.\n",
    "** so im going to merg this 2 data set toghter** "
   ]
  },
  {
   "cell_type": "code",
   "execution_count": 195,
   "metadata": {},
   "outputs": [],
   "source": [
    "\n",
    "both_stage=pd.merge(stage,male_stage, on= 'Year')\n"
   ]
  },
  {
   "cell_type": "code",
   "execution_count": 196,
   "metadata": {},
   "outputs": [
    {
     "data": {
      "text/html": [
       "<div>\n",
       "<style scoped>\n",
       "    .dataframe tbody tr th:only-of-type {\n",
       "        vertical-align: middle;\n",
       "    }\n",
       "\n",
       "    .dataframe tbody tr th {\n",
       "        vertical-align: top;\n",
       "    }\n",
       "\n",
       "    .dataframe thead th {\n",
       "        text-align: right;\n",
       "    }\n",
       "</style>\n",
       "<table border=\"1\" class=\"dataframe\">\n",
       "  <thead>\n",
       "    <tr style=\"text-align: right;\">\n",
       "      <th></th>\n",
       "      <th>CountryName_x</th>\n",
       "      <th>CountryCode_x</th>\n",
       "      <th>IndicatorName_x</th>\n",
       "      <th>IndicatorCode_x</th>\n",
       "      <th>Year</th>\n",
       "      <th>Value_x</th>\n",
       "      <th>CountryName_y</th>\n",
       "      <th>CountryCode_y</th>\n",
       "      <th>IndicatorName_y</th>\n",
       "      <th>IndicatorCode_y</th>\n",
       "      <th>Value_y</th>\n",
       "    </tr>\n",
       "  </thead>\n",
       "  <tbody>\n",
       "    <tr>\n",
       "      <th>0</th>\n",
       "      <td>United States</td>\n",
       "      <td>USA</td>\n",
       "      <td>Life expectancy at birth, female (years)</td>\n",
       "      <td>SP.DYN.LE00.FE.IN</td>\n",
       "      <td>1960</td>\n",
       "      <td>73.1</td>\n",
       "      <td>United States</td>\n",
       "      <td>USA</td>\n",
       "      <td>Life expectancy at birth, male (years)</td>\n",
       "      <td>SP.DYN.LE00.MA.IN</td>\n",
       "      <td>66.6</td>\n",
       "    </tr>\n",
       "    <tr>\n",
       "      <th>1</th>\n",
       "      <td>United States</td>\n",
       "      <td>USA</td>\n",
       "      <td>Life expectancy at birth, female (years)</td>\n",
       "      <td>SP.DYN.LE00.FE.IN</td>\n",
       "      <td>1961</td>\n",
       "      <td>73.6</td>\n",
       "      <td>United States</td>\n",
       "      <td>USA</td>\n",
       "      <td>Life expectancy at birth, male (years)</td>\n",
       "      <td>SP.DYN.LE00.MA.IN</td>\n",
       "      <td>67.1</td>\n",
       "    </tr>\n",
       "    <tr>\n",
       "      <th>2</th>\n",
       "      <td>United States</td>\n",
       "      <td>USA</td>\n",
       "      <td>Life expectancy at birth, female (years)</td>\n",
       "      <td>SP.DYN.LE00.FE.IN</td>\n",
       "      <td>1962</td>\n",
       "      <td>73.5</td>\n",
       "      <td>United States</td>\n",
       "      <td>USA</td>\n",
       "      <td>Life expectancy at birth, male (years)</td>\n",
       "      <td>SP.DYN.LE00.MA.IN</td>\n",
       "      <td>66.9</td>\n",
       "    </tr>\n",
       "    <tr>\n",
       "      <th>3</th>\n",
       "      <td>United States</td>\n",
       "      <td>USA</td>\n",
       "      <td>Life expectancy at birth, female (years)</td>\n",
       "      <td>SP.DYN.LE00.FE.IN</td>\n",
       "      <td>1963</td>\n",
       "      <td>73.4</td>\n",
       "      <td>United States</td>\n",
       "      <td>USA</td>\n",
       "      <td>Life expectancy at birth, male (years)</td>\n",
       "      <td>SP.DYN.LE00.MA.IN</td>\n",
       "      <td>66.6</td>\n",
       "    </tr>\n",
       "    <tr>\n",
       "      <th>4</th>\n",
       "      <td>United States</td>\n",
       "      <td>USA</td>\n",
       "      <td>Life expectancy at birth, female (years)</td>\n",
       "      <td>SP.DYN.LE00.FE.IN</td>\n",
       "      <td>1964</td>\n",
       "      <td>73.7</td>\n",
       "      <td>United States</td>\n",
       "      <td>USA</td>\n",
       "      <td>Life expectancy at birth, male (years)</td>\n",
       "      <td>SP.DYN.LE00.MA.IN</td>\n",
       "      <td>66.8</td>\n",
       "    </tr>\n",
       "  </tbody>\n",
       "</table>\n",
       "</div>"
      ],
      "text/plain": [
       "   CountryName_x CountryCode_x                           IndicatorName_x  \\\n",
       "0  United States           USA  Life expectancy at birth, female (years)   \n",
       "1  United States           USA  Life expectancy at birth, female (years)   \n",
       "2  United States           USA  Life expectancy at birth, female (years)   \n",
       "3  United States           USA  Life expectancy at birth, female (years)   \n",
       "4  United States           USA  Life expectancy at birth, female (years)   \n",
       "\n",
       "     IndicatorCode_x  Year  Value_x  CountryName_y CountryCode_y  \\\n",
       "0  SP.DYN.LE00.FE.IN  1960     73.1  United States           USA   \n",
       "1  SP.DYN.LE00.FE.IN  1961     73.6  United States           USA   \n",
       "2  SP.DYN.LE00.FE.IN  1962     73.5  United States           USA   \n",
       "3  SP.DYN.LE00.FE.IN  1963     73.4  United States           USA   \n",
       "4  SP.DYN.LE00.FE.IN  1964     73.7  United States           USA   \n",
       "\n",
       "                          IndicatorName_y    IndicatorCode_y  Value_y  \n",
       "0  Life expectancy at birth, male (years)  SP.DYN.LE00.MA.IN     66.6  \n",
       "1  Life expectancy at birth, male (years)  SP.DYN.LE00.MA.IN     67.1  \n",
       "2  Life expectancy at birth, male (years)  SP.DYN.LE00.MA.IN     66.9  \n",
       "3  Life expectancy at birth, male (years)  SP.DYN.LE00.MA.IN     66.6  \n",
       "4  Life expectancy at birth, male (years)  SP.DYN.LE00.MA.IN     66.8  "
      ]
     },
     "execution_count": 196,
     "metadata": {},
     "output_type": "execute_result"
    }
   ],
   "source": [
    "both_stage.head()"
   ]
  },
  {
   "cell_type": "code",
   "execution_count": 197,
   "metadata": {},
   "outputs": [
    {
     "data": {
      "text/plain": [
       "(54, 11)"
      ]
     },
     "execution_count": 197,
     "metadata": {},
     "output_type": "execute_result"
    }
   ],
   "source": [
    "both_stage.shape"
   ]
  },
  {
   "cell_type": "code",
   "execution_count": 198,
   "metadata": {},
   "outputs": [
    {
     "data": {
      "text/plain": [
       "Index(['CountryName_x', 'CountryCode_x', 'IndicatorName_x', 'IndicatorCode_x',\n",
       "       'Year', 'Value_x', 'CountryName_y', 'CountryCode_y', 'IndicatorName_y',\n",
       "       'IndicatorCode_y', 'Value_y'],\n",
       "      dtype='object')"
      ]
     },
     "execution_count": 198,
     "metadata": {},
     "output_type": "execute_result"
    }
   ],
   "source": [
    "both_stage.columns"
   ]
  },
  {
   "cell_type": "markdown",
   "metadata": {},
   "source": [
    " ** both_stage is a merged database of life expectancy at birth for female and male.**"
   ]
  },
  {
   "cell_type": "markdown",
   "metadata": {},
   "source": [
    "### Let's see how life expectancy at birth  for female and male have changed over time in USA ; Using MatplotLib"
   ]
  },
  {
   "cell_type": "code",
   "execution_count": 199,
   "metadata": {},
   "outputs": [
    {
     "data": {
      "image/png": "[encoded data removed]",
      "text/plain": [
       "<matplotlib.figure.Figure at 0x22de4e48>"
      ]
     },
     "metadata": {},
     "output_type": "display_data"
    }
   ],
   "source": [
    "#Explore for female\n",
    "# get the years\n",
    "years = both_stage['Year'].values\n",
    "# get the values \n",
    "f_life_exp = both_stage['Value_x'].values\n",
    "\n",
    "# create\n",
    "import matplotlib.pyplot as plt\n",
    "plt.xlabel('Year')\n",
    "plt.ylabel(both_stage['IndicatorName_x'].iloc[0])\n",
    "plt.title('Female life expectancy at birth in USA')\n",
    "\n",
    "\n",
    "plt.bar(years,f_life_exp, facecolor='red')\n",
    "plt.show()"
   ]
  },
  {
   "cell_type": "code",
   "execution_count": 200,
   "metadata": {},
   "outputs": [
    {
     "data": {
      "image/png": "[encoded data removed]",
      "text/plain": [
       "<matplotlib.figure.Figure at 0x1000e2e8>"
      ]
     },
     "metadata": {},
     "output_type": "display_data"
    }
   ],
   "source": [
    " #Explore for male\n",
    "# get the years\n",
    "years = both_stage['Year'].values\n",
    "# get the values \n",
    "m_life_exp = both_stage['Value_y'].values\n",
    "\n",
    "\n",
    "\n",
    "# create\n",
    "import matplotlib.pyplot as plt\n",
    "plt.xlabel('Year')\n",
    "plt.ylabel(both_stage['IndicatorName_y'].iloc[0])\n",
    "plt.title('Male life expectancy at birth in USA')\n",
    "\n",
    "\n",
    "plt.bar(years,m_life_exp, facecolor ='blue')\n",
    "plt.show()"
   ]
  },
  {
   "cell_type": "markdown",
   "metadata": {},
   "source": [
    "* Both bar_plot for femal and male show: the life expectancy at birth have increased over time in USA.  "
   ]
  },
  {
   "cell_type": "markdown",
   "metadata": {},
   "source": [
    "### let's make this graphic a bit more appealing with using * line-plot* before we continue to explore it."
   ]
  },
  {
   "cell_type": "code",
   "execution_count": 201,
   "metadata": {},
   "outputs": [
    {
     "data": {
      "text/plain": [
       "<matplotlib.legend.Legend at 0xaeb16a0>"
      ]
     },
     "execution_count": 201,
     "metadata": {},
     "output_type": "execute_result"
    },
    {
     "data": {
      "image/png": "[encoded data removed]",
      "text/plain": [
       "<matplotlib.figure.Figure at 0x15164748>"
      ]
     },
     "metadata": {},
     "output_type": "display_data"
    }
   ],
   "source": [
    "\n",
    "plt.plot( both_stage['Year'].values, both_stage['Value_x'].values, marker='', color='red',linewidth=2, linestyle='-', label=\"Female\")\n",
    "plt.plot( both_stage['Year'].values, both_stage['Value_y'].values, marker='', color='blue', linewidth=2, linestyle='dashed', label=\"Male\")\n",
    "\n",
    "\n",
    "plt.xlabel('Year')\n",
    "plt.ylabel('Life expectancy at birth')\n",
    "plt.title('Female and male life expectancy at birth in USA')\n",
    "plt.legend()"
   ]
  },
  {
   "cell_type": "markdown",
   "metadata": {},
   "source": [
    " * According to results in Line plot, life expentency for women and men have gotten longer during the years but The life expectancy for women is more dramatically longer than men. "
   ]
  },
  {
   "cell_type": "code",
   "execution_count": 205,
   "metadata": {},
   "outputs": [
    {
     "data": {
      "text/plain": [
       "array([[1.        , 0.97243832],\n",
       "       [0.97243832, 1.        ]])"
      ]
     },
     "execution_count": 205,
     "metadata": {},
     "output_type": "execute_result"
    }
   ],
   "source": [
    "# we can find coor between them in numpy . it give us the relation ship between life expectancy for women and men.  \n",
    "import numpy as np\n",
    "np.corrcoef(stage['Value'],male_stage['Value'])"
   ]
  },
  {
   "cell_type": "code",
   "execution_count": 204,
   "metadata": {},
   "outputs": [
    {
     "data": {
      "text/plain": [
       "<matplotlib.legend.Legend at 0xfc877b8>"
      ]
     },
     "execution_count": 204,
     "metadata": {},
     "output_type": "execute_result"
    },
    {
     "data": {
      "image/png": "[encoded data removed]",
      "text/plain": [
       "<matplotlib.figure.Figure at 0x21260908>"
      ]
     },
     "metadata": {},
     "output_type": "display_data"
    }
   ],
   "source": [
    "\n",
    "plt.plot( both_stage['Year'].values, both_stage['Value_x'].values, marker='', color='red',linewidth=2, linestyle='-', label=\"Female\")\n",
    "plt.plot( both_stage['Year'].values, both_stage['Value_y'].values, marker='', color='blue', linewidth=2, linestyle='dashed', label=\"Male\")\n",
    "\n",
    "\n",
    "plt.xlabel('Year')\n",
    "plt.ylabel('Life expectancy at birth')\n",
    "plt.title('Female and male life expectancy at birth in USA')\n",
    "plt.axis([1960, 1970,60,88])\n",
    "plt.legend()\n"
   ]
  },
  {
   "cell_type": "markdown",
   "metadata": {},
   "source": [
    "# Using histogram to explore distribution of valus\n",
    "We could also visualize this data as a histogram to better explore the ranges of years of life expectancy in USA per year."
   ]
  },
  {
   "cell_type": "code",
   "execution_count": 210,
   "metadata": {},
   "outputs": [
    {
     "data": {
      "text/plain": [
       "Text(0.5,1,'Female life expectancy at birth in USA')"
      ]
     },
     "execution_count": 210,
     "metadata": {},
     "output_type": "execute_result"
    },
    {
     "data": {
      "image/png": "[encoded data removed]",
      "text/plain": [
       "<matplotlib.figure.Figure at 0x1b7b94e0>"
      ]
     },
     "metadata": {},
     "output_type": "display_data"
    }
   ],
   "source": [
    "#female\n",
    "both_stage.hist(column='Value_x',normed=False , facecolor='Red')\n",
    "plt.xlabel(both_stage['IndicatorName_x'].iloc[0])\n",
    "plt.ylabel('range of life expectancy per year')\n",
    "plt.title('Female life expectancy at birth in USA')"
   ]
  },
  {
   "cell_type": "code",
   "execution_count": 212,
   "metadata": {},
   "outputs": [
    {
     "data": {
      "text/plain": [
       "Text(0.5,1,'male life expectancy at birth in USA')"
      ]
     },
     "execution_count": 212,
     "metadata": {},
     "output_type": "execute_result"
    },
    {
     "data": {
      "image/png": "[encoded data removed]",
      "text/plain": [
       "<matplotlib.figure.Figure at 0x15177da0>"
      ]
     },
     "metadata": {},
     "output_type": "display_data"
    }
   ],
   "source": [
    "#male\n",
    "both_stage.hist(column='Value_y',normed=False , facecolor='blue')\n",
    "plt.xlabel(both_stage['IndicatorName_y'].iloc[0])\n",
    "plt.ylabel('range of life expectancy per year')\n",
    "plt.title('male life expectancy at birth in USA')\n"
   ]
  },
  {
   "cell_type": "markdown",
   "metadata": {},
   "source": [
    "### The female average life expectancy and the average male life expectancy in USA is between 5 and 6 years."
   ]
  },
  {
   "cell_type": "markdown",
   "metadata": {},
   "source": [
    "## lets explore life expentency for female and male in Middle East & North Africa:"
   ]
  },
  {
   "cell_type": "code",
   "execution_count": 213,
   "metadata": {
    "scrolled": true
   },
   "outputs": [],
   "source": [
    "# select Life expectancy at birth, female (years) for the Middle East & North Africa\n",
    "life_findicator = 'Life expectancy at birth, female'\n",
    "#life_mindicator='Life expectancy at birth, male'\n",
    "life_country = 'MNA'\n",
    "\n",
    "mask1 = data['IndicatorName'].str.contains(life_findicator) \n",
    "mask2 = data['CountryCode'].str.contains(life_country)\n",
    "#mask3 = data['IndicatorName'].str.contains(life_mindicator\n",
    "\n",
    "\n",
    "# stage is just those indicators matching the USA for country code and life expectancy at birth for female over years.\n",
    "MNA_Fstage = data[mask1 & mask2]\n",
    "    "
   ]
  },
  {
   "cell_type": "code",
   "execution_count": 214,
   "metadata": {},
   "outputs": [
    {
     "data": {
      "text/html": [
       "<div>\n",
       "<style scoped>\n",
       "    .dataframe tbody tr th:only-of-type {\n",
       "        vertical-align: middle;\n",
       "    }\n",
       "\n",
       "    .dataframe tbody tr th {\n",
       "        vertical-align: top;\n",
       "    }\n",
       "\n",
       "    .dataframe thead th {\n",
       "        text-align: right;\n",
       "    }\n",
       "</style>\n",
       "<table border=\"1\" class=\"dataframe\">\n",
       "  <thead>\n",
       "    <tr style=\"text-align: right;\">\n",
       "      <th></th>\n",
       "      <th>CountryName</th>\n",
       "      <th>CountryCode</th>\n",
       "      <th>IndicatorName</th>\n",
       "      <th>IndicatorCode</th>\n",
       "      <th>Year</th>\n",
       "      <th>Value</th>\n",
       "    </tr>\n",
       "  </thead>\n",
       "  <tbody>\n",
       "    <tr>\n",
       "      <th>2202</th>\n",
       "      <td>Middle East &amp; North Africa (developing only)</td>\n",
       "      <td>MNA</td>\n",
       "      <td>Life expectancy at birth, female (years)</td>\n",
       "      <td>SP.DYN.LE00.FE.IN</td>\n",
       "      <td>1960</td>\n",
       "      <td>47.214522</td>\n",
       "    </tr>\n",
       "    <tr>\n",
       "      <th>25734</th>\n",
       "      <td>Middle East &amp; North Africa (developing only)</td>\n",
       "      <td>MNA</td>\n",
       "      <td>Life expectancy at birth, female (years)</td>\n",
       "      <td>SP.DYN.LE00.FE.IN</td>\n",
       "      <td>1961</td>\n",
       "      <td>47.824114</td>\n",
       "    </tr>\n",
       "    <tr>\n",
       "      <th>52498</th>\n",
       "      <td>Middle East &amp; North Africa (developing only)</td>\n",
       "      <td>MNA</td>\n",
       "      <td>Life expectancy at birth, female (years)</td>\n",
       "      <td>SP.DYN.LE00.FE.IN</td>\n",
       "      <td>1962</td>\n",
       "      <td>48.436222</td>\n",
       "    </tr>\n",
       "    <tr>\n",
       "      <th>80923</th>\n",
       "      <td>Middle East &amp; North Africa (developing only)</td>\n",
       "      <td>MNA</td>\n",
       "      <td>Life expectancy at birth, female (years)</td>\n",
       "      <td>SP.DYN.LE00.FE.IN</td>\n",
       "      <td>1963</td>\n",
       "      <td>49.056239</td>\n",
       "    </tr>\n",
       "    <tr>\n",
       "      <th>109569</th>\n",
       "      <td>Middle East &amp; North Africa (developing only)</td>\n",
       "      <td>MNA</td>\n",
       "      <td>Life expectancy at birth, female (years)</td>\n",
       "      <td>SP.DYN.LE00.FE.IN</td>\n",
       "      <td>1964</td>\n",
       "      <td>49.685257</td>\n",
       "    </tr>\n",
       "  </tbody>\n",
       "</table>\n",
       "</div>"
      ],
      "text/plain": [
       "                                         CountryName CountryCode  \\\n",
       "2202    Middle East & North Africa (developing only)         MNA   \n",
       "25734   Middle East & North Africa (developing only)         MNA   \n",
       "52498   Middle East & North Africa (developing only)         MNA   \n",
       "80923   Middle East & North Africa (developing only)         MNA   \n",
       "109569  Middle East & North Africa (developing only)         MNA   \n",
       "\n",
       "                                   IndicatorName      IndicatorCode  Year  \\\n",
       "2202    Life expectancy at birth, female (years)  SP.DYN.LE00.FE.IN  1960   \n",
       "25734   Life expectancy at birth, female (years)  SP.DYN.LE00.FE.IN  1961   \n",
       "52498   Life expectancy at birth, female (years)  SP.DYN.LE00.FE.IN  1962   \n",
       "80923   Life expectancy at birth, female (years)  SP.DYN.LE00.FE.IN  1963   \n",
       "109569  Life expectancy at birth, female (years)  SP.DYN.LE00.FE.IN  1964   \n",
       "\n",
       "            Value  \n",
       "2202    47.214522  \n",
       "25734   47.824114  \n",
       "52498   48.436222  \n",
       "80923   49.056239  \n",
       "109569  49.685257  "
      ]
     },
     "execution_count": 214,
     "metadata": {},
     "output_type": "execute_result"
    }
   ],
   "source": [
    "MNA_Fstage.head()"
   ]
  },
  {
   "cell_type": "code",
   "execution_count": 215,
   "metadata": {},
   "outputs": [
    {
     "data": {
      "text/plain": [
       "(54, 6)"
      ]
     },
     "execution_count": 215,
     "metadata": {},
     "output_type": "execute_result"
    }
   ],
   "source": [
    "MNA_stage.shape"
   ]
  },
  {
   "cell_type": "code",
   "execution_count": 226,
   "metadata": {},
   "outputs": [
    {
     "data": {
      "text/html": [
       "<div>\n",
       "<style scoped>\n",
       "    .dataframe tbody tr th:only-of-type {\n",
       "        vertical-align: middle;\n",
       "    }\n",
       "\n",
       "    .dataframe tbody tr th {\n",
       "        vertical-align: top;\n",
       "    }\n",
       "\n",
       "    .dataframe thead th {\n",
       "        text-align: right;\n",
       "    }\n",
       "</style>\n",
       "<table border=\"1\" class=\"dataframe\">\n",
       "  <thead>\n",
       "    <tr style=\"text-align: right;\">\n",
       "      <th></th>\n",
       "      <th>Year</th>\n",
       "      <th>Value</th>\n",
       "    </tr>\n",
       "  </thead>\n",
       "  <tbody>\n",
       "    <tr>\n",
       "      <th>count</th>\n",
       "      <td>54.000000</td>\n",
       "      <td>54.000000</td>\n",
       "    </tr>\n",
       "    <tr>\n",
       "      <th>mean</th>\n",
       "      <td>1986.500000</td>\n",
       "      <td>63.227352</td>\n",
       "    </tr>\n",
       "    <tr>\n",
       "      <th>std</th>\n",
       "      <td>15.732133</td>\n",
       "      <td>8.720571</td>\n",
       "    </tr>\n",
       "    <tr>\n",
       "      <th>min</th>\n",
       "      <td>1960.000000</td>\n",
       "      <td>47.214522</td>\n",
       "    </tr>\n",
       "    <tr>\n",
       "      <th>25%</th>\n",
       "      <td>1973.250000</td>\n",
       "      <td>55.272400</td>\n",
       "    </tr>\n",
       "    <tr>\n",
       "      <th>50%</th>\n",
       "      <td>1986.500000</td>\n",
       "      <td>65.546449</td>\n",
       "    </tr>\n",
       "    <tr>\n",
       "      <th>75%</th>\n",
       "      <td>1999.750000</td>\n",
       "      <td>71.022014</td>\n",
       "    </tr>\n",
       "    <tr>\n",
       "      <th>max</th>\n",
       "      <td>2013.000000</td>\n",
       "      <td>74.388558</td>\n",
       "    </tr>\n",
       "  </tbody>\n",
       "</table>\n",
       "</div>"
      ],
      "text/plain": [
       "              Year      Value\n",
       "count    54.000000  54.000000\n",
       "mean   1986.500000  63.227352\n",
       "std      15.732133   8.720571\n",
       "min    1960.000000  47.214522\n",
       "25%    1973.250000  55.272400\n",
       "50%    1986.500000  65.546449\n",
       "75%    1999.750000  71.022014\n",
       "max    2013.000000  74.388558"
      ]
     },
     "execution_count": 226,
     "metadata": {},
     "output_type": "execute_result"
    }
   ],
   "source": [
    "MNA_Fstage.describe()"
   ]
  },
  {
   "cell_type": "markdown",
   "metadata": {},
   "source": [
    "####  Female in Midddle East: Minimum age =47, Maximum age=74, Mean=63 and the range of year is: 1986 to 2013"
   ]
  },
  {
   "cell_type": "code",
   "execution_count": 216,
   "metadata": {},
   "outputs": [],
   "source": [
    "# select Life expectancy at birth, male (years) for the middle East and North Africa\n",
    "#life_findicator = 'Life expectancy at birth, male'\n",
    "life_mindicator='Life expectancy at birth, male'\n",
    "life_country = 'MNA'\n",
    "\n",
    "#mask1 = data['IndicatorName'].str.contains(life_findicator) \n",
    "mask2 = data['CountryCode'].str.contains(life_country)\n",
    "mask3 = data['IndicatorName'].str.contains(life_mindicator)\n",
    "\n",
    "# stage is just those indicators matching the USA for country code and life expectancy at birth for female over years.\n",
    "MNA_Mstage = data[mask1 & mask2]\n",
    "    "
   ]
  },
  {
   "cell_type": "code",
   "execution_count": 217,
   "metadata": {
    "scrolled": true
   },
   "outputs": [
    {
     "data": {
      "text/html": [
       "<div>\n",
       "<style scoped>\n",
       "    .dataframe tbody tr th:only-of-type {\n",
       "        vertical-align: middle;\n",
       "    }\n",
       "\n",
       "    .dataframe tbody tr th {\n",
       "        vertical-align: top;\n",
       "    }\n",
       "\n",
       "    .dataframe thead th {\n",
       "        text-align: right;\n",
       "    }\n",
       "</style>\n",
       "<table border=\"1\" class=\"dataframe\">\n",
       "  <thead>\n",
       "    <tr style=\"text-align: right;\">\n",
       "      <th></th>\n",
       "      <th>CountryName</th>\n",
       "      <th>CountryCode</th>\n",
       "      <th>IndicatorName</th>\n",
       "      <th>IndicatorCode</th>\n",
       "      <th>Year</th>\n",
       "      <th>Value</th>\n",
       "    </tr>\n",
       "  </thead>\n",
       "  <tbody>\n",
       "    <tr>\n",
       "      <th>2202</th>\n",
       "      <td>Middle East &amp; North Africa (developing only)</td>\n",
       "      <td>MNA</td>\n",
       "      <td>Life expectancy at birth, female (years)</td>\n",
       "      <td>SP.DYN.LE00.FE.IN</td>\n",
       "      <td>1960</td>\n",
       "      <td>47.214522</td>\n",
       "    </tr>\n",
       "    <tr>\n",
       "      <th>25734</th>\n",
       "      <td>Middle East &amp; North Africa (developing only)</td>\n",
       "      <td>MNA</td>\n",
       "      <td>Life expectancy at birth, female (years)</td>\n",
       "      <td>SP.DYN.LE00.FE.IN</td>\n",
       "      <td>1961</td>\n",
       "      <td>47.824114</td>\n",
       "    </tr>\n",
       "    <tr>\n",
       "      <th>52498</th>\n",
       "      <td>Middle East &amp; North Africa (developing only)</td>\n",
       "      <td>MNA</td>\n",
       "      <td>Life expectancy at birth, female (years)</td>\n",
       "      <td>SP.DYN.LE00.FE.IN</td>\n",
       "      <td>1962</td>\n",
       "      <td>48.436222</td>\n",
       "    </tr>\n",
       "    <tr>\n",
       "      <th>80923</th>\n",
       "      <td>Middle East &amp; North Africa (developing only)</td>\n",
       "      <td>MNA</td>\n",
       "      <td>Life expectancy at birth, female (years)</td>\n",
       "      <td>SP.DYN.LE00.FE.IN</td>\n",
       "      <td>1963</td>\n",
       "      <td>49.056239</td>\n",
       "    </tr>\n",
       "    <tr>\n",
       "      <th>109569</th>\n",
       "      <td>Middle East &amp; North Africa (developing only)</td>\n",
       "      <td>MNA</td>\n",
       "      <td>Life expectancy at birth, female (years)</td>\n",
       "      <td>SP.DYN.LE00.FE.IN</td>\n",
       "      <td>1964</td>\n",
       "      <td>49.685257</td>\n",
       "    </tr>\n",
       "  </tbody>\n",
       "</table>\n",
       "</div>"
      ],
      "text/plain": [
       "                                         CountryName CountryCode  \\\n",
       "2202    Middle East & North Africa (developing only)         MNA   \n",
       "25734   Middle East & North Africa (developing only)         MNA   \n",
       "52498   Middle East & North Africa (developing only)         MNA   \n",
       "80923   Middle East & North Africa (developing only)         MNA   \n",
       "109569  Middle East & North Africa (developing only)         MNA   \n",
       "\n",
       "                                   IndicatorName      IndicatorCode  Year  \\\n",
       "2202    Life expectancy at birth, female (years)  SP.DYN.LE00.FE.IN  1960   \n",
       "25734   Life expectancy at birth, female (years)  SP.DYN.LE00.FE.IN  1961   \n",
       "52498   Life expectancy at birth, female (years)  SP.DYN.LE00.FE.IN  1962   \n",
       "80923   Life expectancy at birth, female (years)  SP.DYN.LE00.FE.IN  1963   \n",
       "109569  Life expectancy at birth, female (years)  SP.DYN.LE00.FE.IN  1964   \n",
       "\n",
       "            Value  \n",
       "2202    47.214522  \n",
       "25734   47.824114  \n",
       "52498   48.436222  \n",
       "80923   49.056239  \n",
       "109569  49.685257  "
      ]
     },
     "execution_count": 217,
     "metadata": {},
     "output_type": "execute_result"
    }
   ],
   "source": [
    "MNA_Mstage.head()"
   ]
  },
  {
   "cell_type": "code",
   "execution_count": 225,
   "metadata": {},
   "outputs": [
    {
     "data": {
      "text/html": [
       "<div>\n",
       "<style scoped>\n",
       "    .dataframe tbody tr th:only-of-type {\n",
       "        vertical-align: middle;\n",
       "    }\n",
       "\n",
       "    .dataframe tbody tr th {\n",
       "        vertical-align: top;\n",
       "    }\n",
       "\n",
       "    .dataframe thead th {\n",
       "        text-align: right;\n",
       "    }\n",
       "</style>\n",
       "<table border=\"1\" class=\"dataframe\">\n",
       "  <thead>\n",
       "    <tr style=\"text-align: right;\">\n",
       "      <th></th>\n",
       "      <th>Year</th>\n",
       "      <th>Value</th>\n",
       "    </tr>\n",
       "  </thead>\n",
       "  <tbody>\n",
       "    <tr>\n",
       "      <th>count</th>\n",
       "      <td>54.000000</td>\n",
       "      <td>54.000000</td>\n",
       "    </tr>\n",
       "    <tr>\n",
       "      <th>mean</th>\n",
       "      <td>1986.500000</td>\n",
       "      <td>63.227352</td>\n",
       "    </tr>\n",
       "    <tr>\n",
       "      <th>std</th>\n",
       "      <td>15.732133</td>\n",
       "      <td>8.720571</td>\n",
       "    </tr>\n",
       "    <tr>\n",
       "      <th>min</th>\n",
       "      <td>1960.000000</td>\n",
       "      <td>47.214522</td>\n",
       "    </tr>\n",
       "    <tr>\n",
       "      <th>25%</th>\n",
       "      <td>1973.250000</td>\n",
       "      <td>55.272400</td>\n",
       "    </tr>\n",
       "    <tr>\n",
       "      <th>50%</th>\n",
       "      <td>1986.500000</td>\n",
       "      <td>65.546449</td>\n",
       "    </tr>\n",
       "    <tr>\n",
       "      <th>75%</th>\n",
       "      <td>1999.750000</td>\n",
       "      <td>71.022014</td>\n",
       "    </tr>\n",
       "    <tr>\n",
       "      <th>max</th>\n",
       "      <td>2013.000000</td>\n",
       "      <td>74.388558</td>\n",
       "    </tr>\n",
       "  </tbody>\n",
       "</table>\n",
       "</div>"
      ],
      "text/plain": [
       "              Year      Value\n",
       "count    54.000000  54.000000\n",
       "mean   1986.500000  63.227352\n",
       "std      15.732133   8.720571\n",
       "min    1960.000000  47.214522\n",
       "25%    1973.250000  55.272400\n",
       "50%    1986.500000  65.546449\n",
       "75%    1999.750000  71.022014\n",
       "max    2013.000000  74.388558"
      ]
     },
     "execution_count": 225,
     "metadata": {},
     "output_type": "execute_result"
    }
   ],
   "source": [
    "MNA_Mstage.describe()"
   ]
  },
  {
   "cell_type": "markdown",
   "metadata": {},
   "source": [
    "####  Male in Midddle East: Minmum age =47, Maximum age=74, Mean=63 and the range of year is: 1986 to 2013\n",
    "* The average female life expectancy and the average male life expentancy in the Middle East are almost the same. "
   ]
  },
  {
   "cell_type": "markdown",
   "metadata": {},
   "source": [
    "* According to the results, the average Life expectancy in Middle East & North Africa is less than developed country like USA.The difference in life expectancy at birth between women in USA and women in Middle East is hug.\n",
    "\n",
    "#### Explore life expectancy at birth, for the Middle East and North Africa with Matplot and find corr between them\n"
   ]
  },
  {
   "cell_type": "code",
   "execution_count": 227,
   "metadata": {},
   "outputs": [
    {
     "data": {
      "text/plain": [
       "<matplotlib.legend.Legend at 0x1900bdd8>"
      ]
     },
     "execution_count": 227,
     "metadata": {},
     "output_type": "execute_result"
    },
    {
     "data": {
      "image/png": "[encoded data removed]",
      "text/plain": [
       "<matplotlib.figure.Figure at 0x22dd2710>"
      ]
     },
     "metadata": {},
     "output_type": "display_data"
    }
   ],
   "source": [
    "\n",
    "plt.plot( MNA_Fstage['Year'].values, MNA_Fstage['Value'].values, marker='', color='red',linewidth=2, linestyle='-', label=\"Female\")\n",
    "plt.plot( MNA_Mstage['Year'].values, MNA_Mstage['Value'].values, marker='', color='blue', linewidth=2, linestyle='dashed', label=\"Male\")\n",
    "\n",
    "\n",
    "plt.xlabel('Year')\n",
    "plt.ylabel('Life expectancy at birth')\n",
    "plt.title('Female and male life expectancy at birth in Middle East')\n",
    "plt.legend()"
   ]
  },
  {
   "cell_type": "code",
   "execution_count": 228,
   "metadata": {},
   "outputs": [
    {
     "data": {
      "text/plain": [
       "array([[1., 1.],\n",
       "       [1., 1.]])"
      ]
     },
     "execution_count": 228,
     "metadata": {},
     "output_type": "execute_result"
    }
   ],
   "source": [
    "np.corrcoef(MNA_Mstage['Value'],MNA_Fstage['Value'])"
   ]
  },
  {
   "cell_type": "markdown",
   "metadata": {},
   "source": [
    "* Correlation of 1 is pretty strong for the life expentancy at birth between male and female in Middle East & North Africa."
   ]
  },
  {
   "cell_type": "code",
   "execution_count": 229,
   "metadata": {},
   "outputs": [
    {
     "data": {
      "text/plain": [
       "Text(0.5,1,'male life expectancy at birth in Middle East')"
      ]
     },
     "execution_count": 229,
     "metadata": {},
     "output_type": "execute_result"
    },
    {
     "data": {
      "image/png": "[encoded data removed]",
      "text/plain": [
       "<matplotlib.figure.Figure at 0x25f62898>"
      ]
     },
     "metadata": {},
     "output_type": "display_data"
    }
   ],
   "source": [
    "#male histogram\n",
    "MNA_Mstage.hist(column='Value',normed=False , facecolor='blue')\n",
    "plt.xlabel(MNA_Mstage['IndicatorName'].iloc[0])\n",
    "plt.ylabel('range of life expectancy per year')\n",
    "plt.title('male life expectancy at birth in Middle East')\n"
   ]
  },
  {
   "cell_type": "code",
   "execution_count": 230,
   "metadata": {},
   "outputs": [
    {
     "data": {
      "text/plain": [
       "Text(0.5,1,'female life expectancy at birth in Middle East')"
      ]
     },
     "execution_count": 230,
     "metadata": {},
     "output_type": "execute_result"
    },
    {
     "data": {
      "image/png": "[encoded data removed]",
      "text/plain": [
       "<matplotlib.figure.Figure at 0x21faecc0>"
      ]
     },
     "metadata": {},
     "output_type": "display_data"
    }
   ],
   "source": [
    "#female histogram\n",
    "MNA_Fstage.hist(column='Value',normed=False , facecolor='red')\n",
    "plt.xlabel(MNA_Fstage['IndicatorName'].iloc[0])\n",
    "plt.ylabel('range of life expectancy per year')\n",
    "plt.title('female life expectancy at birth in Middle East')\n"
   ]
  },
  {
   "cell_type": "markdown",
   "metadata": {},
   "source": [
    "* According to the result of exploring life expectancy at birth in Middle East & North Africa : life expectancy for male and female is very close together\n"
   ]
  },
  {
   "cell_type": "markdown",
   "metadata": {},
   "source": [
    "## Compair life expectancy at birth in  Middle East & USA "
   ]
  },
  {
   "cell_type": "code",
   "execution_count": 232,
   "metadata": {},
   "outputs": [
    {
     "data": {
      "text/plain": [
       "<matplotlib.legend.Legend at 0x26721e48>"
      ]
     },
     "execution_count": 232,
     "metadata": {},
     "output_type": "execute_result"
    },
    {
     "data": {
      "image/png": "[encoded data removed]",
      "text/plain": [
       "<matplotlib.figure.Figure at 0x24857940>"
      ]
     },
     "metadata": {},
     "output_type": "display_data"
    }
   ],
   "source": [
    "# compair male life expantancy in USA and Midddle East:\n",
    "\n",
    "plt.plot( both_stage['Year'].values, both_stage['Value_y'].values, marker='', color='green',linewidth=2, linestyle='-', label=\"male USA\")\n",
    "plt.plot( MNA_Mstage['Year'].values, MNA_Mstage['Value'].values, marker='', color='pink', linewidth=2, linestyle='dashed', label=\" male MNA\")\n",
    "plt.plot(both_stage['Year'].values, both_stage['Value_x'].values, marker='', color='green',linewidth=2, linestyle='dashed', label=\"femal USA\")\n",
    "plt.plot( MNA_Fstage['Year'].values, MNA_Fstage['Value'].values, marker='', color='blue', linewidth=2, linestyle='dashed', label=\" female MNA\")\n",
    "\n",
    "\n",
    "plt.xlabel('Year')\n",
    "plt.ylabel('Life expectancy at birth')\n",
    "plt.title('life expectancy at birth in USA & Middle East')\n",
    "plt.legend()\n"
   ]
  },
  {
   "cell_type": "markdown",
   "metadata": {},
   "source": [
    "* This plot shows women in USA live longer than others. "
   ]
  },
  {
   "cell_type": "markdown",
   "metadata": {},
   "source": [
    "# results:\n",
    "* The life expectancy at birth have increased over time in World.  \n",
    "* Number of years women are expected to live longer than men in developed country such USA.\n",
    "* Number of years people in USA are expected to live is longer than people in Middle East & North Africa."
   ]
  }
 ],
 "metadata": {
  "kernelspec": {
   "display_name": "Python 3",
   "language": "python",
   "name": "python3"
  },
  "language_info": {
   "codemirror_mode": {
    "name": "ipython",
    "version": 3
   },
   "file_extension": ".py",
   "mimetype": "text/x-python",
   "name": "python",
   "nbconvert_exporter": "python",
   "pygments_lexer": "ipython3",
   "version": "3.6.5"
  }
 },
 "nbformat": 4,
 "nbformat_minor": 2
}
