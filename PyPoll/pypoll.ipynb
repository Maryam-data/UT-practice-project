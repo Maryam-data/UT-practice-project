{
 "cells": [
  {
   "cell_type": "code",
   "execution_count": 3,
   "metadata": {},
   "outputs": [
    {
     "name": "stdout",
     "output_type": "stream",
     "text": [
      "3521001\n"
     ]
    }
   ],
   "source": [
    "#-------PYPoll project-------------------------------------------------\n",
    "#Gole:\n",
    "\n",
    "#total number of votes cast\n",
    "# complete list of candidates who received votes\n",
    "# The percentage of votes each candidate won\n",
    "# The total number of votes each candidate won\n",
    "# The winner of the election based on popular vote.\n",
    "\n",
    "#import csv and os and also from python colloction import counter to count in dictunary\n",
    "#count=variable to count total number of votes\n",
    "import csv\n",
    "import os \n",
    "from collections import Counter\n",
    "#open and read file name pypoll\n",
    "count=0\n",
    "percentage=[]\n",
    "with open ('election_data.csv','r') as pypollcsv:\n",
    "    csvreader=csv.reader(pypollcsv,delimiter=\",\")\n",
    "    csv_header = next(csvreader)\n",
    "    for row in csvreader:\n",
    "        count +=1\n",
    "    print(count)\n",
    "        \n"
   ]
  },
  {
   "cell_type": "code",
   "execution_count": 4,
   "metadata": {},
   "outputs": [],
   "source": [
    "#read file as dictunary \n",
    "pypoll_csv = ('./election_data.csv')\n",
    "reader = csv.DictReader(open(pypoll_csv))\n"
   ]
  },
  {
   "cell_type": "code",
   "execution_count": 5,
   "metadata": {},
   "outputs": [],
   "source": [
    "#get the list of Candidate as key in dictunary \n",
    "candidate_list = [c['Candidate'] for c in reader]"
   ]
  },
  {
   "cell_type": "code",
   "execution_count": 6,
   "metadata": {},
   "outputs": [],
   "source": [
    "#COUNT votes for each candidate using dictunarey \n",
    "candidate_dict = dict(Counter(candidate_list))"
   ]
  },
  {
   "cell_type": "code",
   "execution_count": 7,
   "metadata": {},
   "outputs": [],
   "source": [
    "for i in candidate_dict.values():\n",
    "    percentage.append(i/sum(candidate_dict.values())*100)"
   ]
  },
  {
   "cell_type": "code",
   "execution_count": 8,
   "metadata": {},
   "outputs": [],
   "source": [
    "for name in candidate_dict.keys():\n",
    "    candidate_dict.get(name)"
   ]
  },
  {
   "cell_type": "code",
   "execution_count": 9,
   "metadata": {},
   "outputs": [],
   "source": [
    "# make dictunary from ziping to cadidnate dic keys and percentage list.\n",
    "candidate_perc_dict = dict(zip(list(candidate_dict.keys()),percentage))\n",
    "#candinate_vote is dic pof keys and value of candinate ,key\n",
    "candidate_votes = dict(zip(list(candidate_dict.keys()),candidate_dict.values())) \n",
    "winner = list(candidate_votes.keys())[0]"
   ]
  },
  {
   "cell_type": "code",
   "execution_count": 11,
   "metadata": {},
   "outputs": [
    {
     "name": "stdout",
     "output_type": "stream",
     "text": [
      "Election Results\n",
      "------------------\n",
      "Total Votes : 0\n",
      "Khan : 63.000% (2218231)\n",
      "Correy : 20.000% (704200)\n",
      "Li : 14.000% (492940)\n",
      "O'Tooley : 3.000% (105630)\n",
      "------------------\n",
      "Winner: Khan\n"
     ]
    }
   ],
   "source": [
    "#Result-----------------------------\n",
    "print(\"Election Results\")\n",
    "print(\"------------------\")\n",
    "print(\"Total Votes\"+\" : \" + str(count))\n",
    "for name in candidate_dict.keys():\n",
    "     print('{} : {:.3f}% ({})'.format(name,candidate_perc_dict.get(name),candidate_votes.get(name)))\n",
    "print(\"------------------\")\n",
    "print(\"Winner: \" + winner)"
   ]
  },
  {
   "cell_type": "code",
   "execution_count": null,
   "metadata": {},
   "outputs": [],
   "source": [
    "\n"
   ]
  }
 ],
 "metadata": {
  "kernelspec": {
   "display_name": "Python 3",
   "language": "python",
   "name": "python3"
  },
  "language_info": {
   "codemirror_mode": {
    "name": "ipython",
    "version": 3
   },
   "file_extension": ".py",
   "mimetype": "text/x-python",
   "name": "python",
   "nbconvert_exporter": "python",
   "pygments_lexer": "ipython3",
   "version": "3.6.5"
  }
 },
 "nbformat": 4,
 "nbformat_minor": 2
}
